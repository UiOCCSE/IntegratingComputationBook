{
 "cells": [
  {
   "cell_type": "markdown",
   "metadata": {},
   "source": [
    "<!-- dom:TITLE: Integrating Computation in Undergraduate Physics Courses (An Outline) -->\n",
    "# Integrating Computation in Undergraduate Physics Courses (An Outline)\n",
    "<!-- dom:AUTHOR: Marcos D. Caballero at Department of Physics and Astronomy, Michigan State University & Department of Physics and Center for Computing in Science Education, University of Oslo -->\n",
    "<!-- Author: -->  \n",
    "**Marcos D. Caballero**, Department of Physics and Astronomy, Michigan State University and Department of Physics and Center for Computing in Science Education, University of Oslo  \n",
    "<!-- dom:AUTHOR: Morten Hjorth-Jensen at Department of Physics and Astronomy, Michigan State University & Department of Physics and Center for Computing in Science Education, University of Oslo -->\n",
    "<!-- Author: --> **Morten Hjorth-Jensen**, Department of Physics and Astronomy, Michigan State University and Department of Physics and Center for Computing in Science Education, University of Oslo\n",
    "\n",
    "Date: **Jun 12, 2017**\n",
    "\n",
    "# Purpose\n",
    "\n",
    "Using this book, we aim to provide a practical guide for those looking to integrate computation into their undergraduate physics courses. The book will attempt to achieve several goals:\n",
    "\n",
    "1. Provide motivation and rationale for why such computational integration is necessary, and as such, offer arguments in favor of computational integration that others may use for their own discussions.\n",
    "\n",
    "2. Offer a suite of computational learning goals at a variety of scales and for a variety of topics in order to present the variety of ways and different levels of the depth to which students may work with computational ideas.\n",
    "\n",
    "3. Provide example activities in which students are engaged with such learning goals to varying degrees in order to demonstrate the wide variety of ways in which computation can be used in classrooms.\n",
    "\n",
    "4. Through these examples, discuss a variety of implementation models in order to inform readers of the needs, benefits, and challenges of each.\n",
    "\n",
    "5. Discuss more broadly the issues of computational integration including available resources and on-going research efforts."
   ]
  }
 ],
 "metadata": {},
 "nbformat": 4,
 "nbformat_minor": 2
}
